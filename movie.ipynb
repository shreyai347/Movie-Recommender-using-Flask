{
 "cells": [
  {
   "cell_type": "code",
   "execution_count": 1,
   "metadata": {},
   "outputs": [],
   "source": [
    "# Importing the necessary libraries\n",
    "import numpy as np\n",
    "import pandas as pd\n",
    "from scipy import sparse\n",
    "from sklearn.metrics.pairwise import cosine_similarity\n",
    "from datetime import datetime\n",
    "from fuzzywuzzy import fuzz, process\n",
    "import os"
   ]
  },
  {
   "cell_type": "code",
   "execution_count": 2,
   "metadata": {},
   "outputs": [],
   "source": [
    "# Loading the dataset\n",
    "file_path = \"dataset/\"\n",
    "movie_ratings = pd.read_csv(file_path + \"ratings.csv\")\n",
    "movies = pd.read_csv(file_path + \"movies.csv\")"
   ]
  },
  {
   "cell_type": "code",
   "execution_count": 3,
   "metadata": {},
   "outputs": [
    {
     "name": "stderr",
     "output_type": "stream",
     "text": [
      "C:\\Users\\shrey\\AppData\\Local\\Temp\\ipykernel_18692\\1533361539.py:3: DeprecationWarning: datetime.datetime.utcfromtimestamp() is deprecated and scheduled for removal in a future version. Use timezone-aware objects to represent datetimes in UTC: datetime.datetime.fromtimestamp(timestamp, datetime.UTC).\n",
      "  movie_ratings[\"timestamp\"] = movie_ratings[\"timestamp\"].apply(lambda x: datetime.utcfromtimestamp(x).strftime(\"%Y-%m-%d\"))\n"
     ]
    }
   ],
   "source": [
    "# Creating a newId for every movie and merging datasets\n",
    "movies[\"newId\"] = range(1, movies[\"movieId\"].nunique() + 1)\n",
    "movie_ratings[\"timestamp\"] = movie_ratings[\"timestamp\"].apply(lambda x: datetime.utcfromtimestamp(x).strftime(\"%Y-%m-%d\"))\n",
    "movie_ratings = movie_ratings.merge(movies, how=\"left\", on=\"movieId\")\n",
    "movie_ratings[\"movieId\"] = movie_ratings[\"newId\"]\n",
    "movies[\"movieId\"] = movies[\"newId\"]\n",
    "movie_ratings.drop([\"newId\"], axis=1, inplace=True)\n",
    "movies.drop([\"newId\"], axis=1, inplace=True)"
   ]
  },
  {
   "cell_type": "code",
   "execution_count": 4,
   "metadata": {},
   "outputs": [],
   "source": [
    "# Train-test split\n",
    "\n",
    "file_path = \"dataset/\"\n",
    "if not os.path.isfile(file_path + \"TrainData.pkl\"):\n",
    "    movie_ratings.iloc[:int(movie_ratings.shape[0] * 0.80)].to_pickle(file_path + \"TrainData.pkl\")\n",
    "Train_Data = pd.read_pickle(file_path + \"TrainData.pkl\")\n",
    "\n",
    "if not os.path.isfile(file_path + \"TestData.pkl\"):\n",
    "    movie_ratings.iloc[int(movie_ratings.shape[0] * 0.80):].to_pickle(file_path + \"TestData.pkl\")\n",
    "Test_Data = pd.read_pickle(file_path + \"TestData.pkl\")"
   ]
  },
  {
   "cell_type": "code",
   "execution_count": 5,
   "metadata": {},
   "outputs": [],
   "source": [
    "# User-item sparse matrix creation\n",
    "if not os.path.isfile(file_path + \"TrainUISparseData.npz\"):\n",
    "    TrainUISparseData = sparse.csr_matrix((Train_Data.rating, (Train_Data.userId, Train_Data.movieId)))\n",
    "    sparse.save_npz(file_path + \"TrainUISparseData.npz\", TrainUISparseData)\n",
    "else:\n",
    "    TrainUISparseData = sparse.load_npz(file_path + \"TrainUISparseData.npz\")"
   ]
  },
  {
   "cell_type": "code",
   "execution_count": 6,
   "metadata": {},
   "outputs": [],
   "source": [
    "# Movie-Movie similarity computation\n",
    "if not os.path.isfile(file_path + \"m_m_similarity.npz\"):\n",
    "    m_m_similarity = cosine_similarity(TrainUISparseData.T, dense_output=False)\n",
    "    sparse.save_npz(file_path + \"m_m_similarity.npz\", m_m_similarity)\n",
    "else:\n",
    "    m_m_similarity = sparse.load_npz(file_path + \"m_m_similarity.npz\")"
   ]
  },
  {
   "cell_type": "code",
   "execution_count": 7,
   "metadata": {},
   "outputs": [],
   "source": [
    "# Movie recommendation function\n",
    "def recommend(movie_name):\n",
    "    movie_list_in_training = Train_Data.drop_duplicates(subset=[\"title\"], keep=\"first\")[[\"movieId\", \"title\"]].reset_index(drop=True)\n",
    "    \n",
    "    # Use fuzzy matching to find the closest match to the entered movie name\n",
    "    matches = process.extract(movie_name, movie_list_in_training[\"title\"], scorer=fuzz.partial_ratio)\n",
    "    \n",
    "    if len(matches) == 0:\n",
    "        return \"No Match Found\"\n",
    "    \n",
    "    # Get the movie ID of the best match\n",
    "    movie_id = movie_list_in_training.iloc[matches[0][2]][\"movieId\"]\n",
    "    \n",
    "    # Get the top 10 similar movies\n",
    "    similar_movie_id_list = np.argsort(-m_m_similarity[movie_id].toarray().ravel())[0:11]  # 10 similar movies + 1 (original movie)\n",
    "    \n",
    "    # Get the details of the similar movies\n",
    "    sm_df = movie_list_in_training[movie_list_in_training[\"movieId\"].isin(similar_movie_id_list)]\n",
    "    \n",
    "    # Assign order to the similar movies\n",
    "    sm_df[\"order\"] = sm_df.apply(lambda x: list(similar_movie_id_list).index(x[\"movieId\"]), axis=1)\n",
    "    \n",
    "    return sm_df.sort_values(\"order\")\n"
   ]
  },
  {
   "cell_type": "code",
   "execution_count": 8,
   "metadata": {},
   "outputs": [
    {
     "name": "stderr",
     "output_type": "stream",
     "text": [
      "C:\\Users\\shrey\\AppData\\Local\\Temp\\ipykernel_18692\\3267351915.py:21: SettingWithCopyWarning: \n",
      "A value is trying to be set on a copy of a slice from a DataFrame.\n",
      "Try using .loc[row_indexer,col_indexer] = value instead\n",
      "\n",
      "See the caveats in the documentation: https://pandas.pydata.org/pandas-docs/stable/user_guide/indexing.html#returning-a-view-versus-a-copy\n",
      "  sm_df[\"order\"] = sm_df.apply(lambda x: list(similar_movie_id_list).index(x[\"movieId\"]), axis=1)\n"
     ]
    },
    {
     "data": {
      "text/html": [
       "<div>\n",
       "<style scoped>\n",
       "    .dataframe tbody tr th:only-of-type {\n",
       "        vertical-align: middle;\n",
       "    }\n",
       "\n",
       "    .dataframe tbody tr th {\n",
       "        vertical-align: top;\n",
       "    }\n",
       "\n",
       "    .dataframe thead th {\n",
       "        text-align: right;\n",
       "    }\n",
       "</style>\n",
       "<table border=\"1\" class=\"dataframe\">\n",
       "  <thead>\n",
       "    <tr style=\"text-align: right;\">\n",
       "      <th></th>\n",
       "      <th>movieId</th>\n",
       "      <th>title</th>\n",
       "      <th>order</th>\n",
       "    </tr>\n",
       "  </thead>\n",
       "  <tbody>\n",
       "    <tr>\n",
       "      <th>126</th>\n",
       "      <td>4801</td>\n",
       "      <td>Harry Potter and the Sorcerer's Stone (a.k.a. ...</td>\n",
       "      <td>0</td>\n",
       "    </tr>\n",
       "    <tr>\n",
       "      <th>140</th>\n",
       "      <td>5718</td>\n",
       "      <td>Harry Potter and the Chamber of Secrets (2002)</td>\n",
       "      <td>1</td>\n",
       "    </tr>\n",
       "    <tr>\n",
       "      <th>168</th>\n",
       "      <td>7770</td>\n",
       "      <td>Harry Potter and the Prisoner of Azkaban (2004)</td>\n",
       "      <td>2</td>\n",
       "    </tr>\n",
       "    <tr>\n",
       "      <th>1279</th>\n",
       "      <td>10601</td>\n",
       "      <td>Harry Potter and the Goblet of Fire (2005)</td>\n",
       "      <td>3</td>\n",
       "    </tr>\n",
       "    <tr>\n",
       "      <th>803</th>\n",
       "      <td>5253</td>\n",
       "      <td>Spider-Man (2002)</td>\n",
       "      <td>4</td>\n",
       "    </tr>\n",
       "    <tr>\n",
       "      <th>131</th>\n",
       "      <td>4898</td>\n",
       "      <td>Lord of the Rings: The Fellowship of the Ring,...</td>\n",
       "      <td>5</td>\n",
       "    </tr>\n",
       "    <tr>\n",
       "      <th>119</th>\n",
       "      <td>4212</td>\n",
       "      <td>Shrek (2001)</td>\n",
       "      <td>6</td>\n",
       "    </tr>\n",
       "    <tr>\n",
       "      <th>148</th>\n",
       "      <td>6430</td>\n",
       "      <td>Pirates of the Caribbean: The Curse of the Bla...</td>\n",
       "      <td>7</td>\n",
       "    </tr>\n",
       "    <tr>\n",
       "      <th>1123</th>\n",
       "      <td>4791</td>\n",
       "      <td>Monsters, Inc. (2001)</td>\n",
       "      <td>8</td>\n",
       "    </tr>\n",
       "    <tr>\n",
       "      <th>142</th>\n",
       "      <td>5854</td>\n",
       "      <td>Lord of the Rings: The Two Towers, The (2002)</td>\n",
       "      <td>9</td>\n",
       "    </tr>\n",
       "    <tr>\n",
       "      <th>828</th>\n",
       "      <td>6272</td>\n",
       "      <td>Finding Nemo (2003)</td>\n",
       "      <td>10</td>\n",
       "    </tr>\n",
       "  </tbody>\n",
       "</table>\n",
       "</div>"
      ],
      "text/plain": [
       "      movieId                                              title  order\n",
       "126      4801  Harry Potter and the Sorcerer's Stone (a.k.a. ...      0\n",
       "140      5718     Harry Potter and the Chamber of Secrets (2002)      1\n",
       "168      7770    Harry Potter and the Prisoner of Azkaban (2004)      2\n",
       "1279    10601         Harry Potter and the Goblet of Fire (2005)      3\n",
       "803      5253                                  Spider-Man (2002)      4\n",
       "131      4898  Lord of the Rings: The Fellowship of the Ring,...      5\n",
       "119      4212                                       Shrek (2001)      6\n",
       "148      6430  Pirates of the Caribbean: The Curse of the Bla...      7\n",
       "1123     4791                              Monsters, Inc. (2001)      8\n",
       "142      5854      Lord of the Rings: The Two Towers, The (2002)      9\n",
       "828      6272                                Finding Nemo (2003)     10"
      ]
     },
     "execution_count": 8,
     "metadata": {},
     "output_type": "execute_result"
    }
   ],
   "source": [
    "recommend(\"harry potter\")"
   ]
  },
  {
   "cell_type": "code",
   "execution_count": 9,
   "metadata": {},
   "outputs": [],
   "source": [
    "import pickle\n",
    "with open(file_path + 'similarity.pkl', 'wb') as file:\n",
    "    pickle.dump(m_m_similarity, file)"
   ]
  }
 ],
 "metadata": {
  "kernelspec": {
   "display_name": "base",
   "language": "python",
   "name": "python3"
  },
  "language_info": {
   "codemirror_mode": {
    "name": "ipython",
    "version": 3
   },
   "file_extension": ".py",
   "mimetype": "text/x-python",
   "name": "python",
   "nbconvert_exporter": "python",
   "pygments_lexer": "ipython3",
   "version": "3.12.4"
  }
 },
 "nbformat": 4,
 "nbformat_minor": 2
}
